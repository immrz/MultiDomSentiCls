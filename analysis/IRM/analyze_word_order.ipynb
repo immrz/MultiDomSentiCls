{
 "cells": [
  {
   "cell_type": "code",
   "execution_count": 13,
   "id": "287eb252",
   "metadata": {},
   "outputs": [],
   "source": [
    "import sys\n",
    "sys.path.append('/home/v-runmao/projects/DomShift-ATMF')\n",
    "\n",
    "from importlib import reload\n",
    "\n",
    "import precompute_vis\n",
    "reload(precompute_vis)\n",
    "\n",
    "from analysis import helper\n",
    "reload(helper)\n",
    "\n",
    "from analysis.helper import get_model_from_root, get_pred_and_prob, do_for_all_algo_and_tgt\n",
    "from analysis.helper import cmp_binary_pred_and_label, display_metrics_nicely\n",
    "import pandas as pd\n",
    "import numpy as np\n",
    "import torch"
   ]
  },
  {
   "cell_type": "code",
   "execution_count": 16,
   "id": "7e1a8f61",
   "metadata": {},
   "outputs": [],
   "source": [
    "@do_for_all_algo_and_tgt(['ERM'], 'ATMF')\n",
    "def run(algorithm=None, target=None, seed=0):\n",
    "    data = get_target_shuffled_text(target, seed)\n",
    "    model = get_model_from_root(f'../../pt/all_best/{algorithm}_BEST', f'{algorithm}_tgt_{target}').to('cuda:0')\n",
    "    model.eval()\n",
    "    \n",
    "    # forward the shuffled text\n",
    "    shuffled_pred, _ = get_pred_and_prob(model, data['shuffled_text'].tolist())\n",
    "    data['shuffled_pred'] = shuffled_pred\n",
    "    \n",
    "    # replace string label with binary integer\n",
    "    l2i = {'positive': 1, 'negative': 0}\n",
    "    data.replace(to_replace={'label': l2i, 'ERM_pred': l2i, 'shuffled_pred': l2i}, inplace=True)\n",
    "    \n",
    "    # get acc, f1, etc.\n",
    "    first = True\n",
    "    print('Target: {}'.format({'A': 'Amazon', 'T': 'Twitter', 'M': 'MSN', 'F': 'Finance'}[target]))\n",
    "    for has_negation in [True, False]:  # subset with or without negations\n",
    "        for label in [1, 0]:  # subset with positive or negative sentiment\n",
    "            mask = (data['label'] == label) & (data['has_negation'] == has_negation)\n",
    "            subset = data[mask]\n",
    "\n",
    "            label = subset['label']\n",
    "            origin_pred = subset['ERM_pred']\n",
    "            shuffled_pred = subset['shuffled_pred']\n",
    "\n",
    "            origin_res = cmp_binary_pred_and_label(origin_pred, label)\n",
    "            shuffled_res = cmp_binary_pred_and_label(shuffled_pred, label)\n",
    "\n",
    "            display_metrics_nicely(origin_res, header=first)\n",
    "            display_metrics_nicely(shuffled_res, header=False)\n",
    "            first &= False\n",
    "\n",
    "\n",
    "def get_target_shuffled_text(target, seed):\n",
    "    rs = np.random.RandomState(seed)\n",
    "    \n",
    "    data = pd.read_csv('./postprocessed.csv')\n",
    "    mask = (data['domain'] == target)  # only test data\n",
    "    data = data[mask].copy()\n",
    "    \n",
    "    shuffled = []\n",
    "    for t in data['text']:\n",
    "        tokens = t.strip().split()\n",
    "        rs.shuffle(tokens)\n",
    "        shuffled.append(' '.join(tokens))\n",
    "    data['shuffled_text'] = shuffled\n",
    "    return data"
   ]
  },
  {
   "cell_type": "markdown",
   "id": "8616f6c2",
   "metadata": {},
   "source": [
    "The order of the **8** rows of each table is:\n",
    "- has_negation & label=1 & not shuffled\n",
    "- has_negation & label=1 & shuffled\n",
    "- has_negation & label=0 & not shuffled\n",
    "- has_negation & label=0 & shuffled\n",
    "- no_negation & label=1 & not shuffled\n",
    "- no_negation & label=1 & shuffled\n",
    "- no_negation & label=0 & not shuffled\n",
    "- no_negation & label=0 & shuffled"
   ]
  },
  {
   "cell_type": "code",
   "execution_count": 17,
   "id": "5ed6820d",
   "metadata": {
    "scrolled": false
   },
   "outputs": [
    {
     "data": {
      "application/vnd.jupyter.widget-view+json": {
       "model_id": "f730fe6cfa9c423baa0deb56a8319d8f",
       "version_major": 2,
       "version_minor": 0
      },
      "text/plain": [
       "HBox(children=(HTML(value=''), FloatProgress(value=0.0, max=125.0), HTML(value='')))"
      ]
     },
     "metadata": {},
     "output_type": "display_data"
    },
    {
     "name": "stdout",
     "output_type": "stream",
     "text": [
      "\n",
      "Target: Amazon\n",
      "----------------------------------------------------------------\n",
      "N       Acc     Precision   Recall  F1      Specificity     \n",
      "----------------------------------------------------------------\n",
      "2516    0.881   1.000       0.881   0.937   -1.000          \n",
      "2516    0.604   1.000       0.604   0.753   -1.000          \n",
      "3345    0.810   0.000       -1.000  0.000   0.810           \n",
      "3345    0.807   0.000       -1.000  0.000   0.807           \n",
      "1484    0.965   1.000       0.965   0.982   -1.000          \n",
      "1484    0.881   1.000       0.881   0.937   -1.000          \n",
      "655     0.666   0.000       -1.000  0.000   0.666           \n",
      "655     0.678   0.000       -1.000  0.000   0.678           \n"
     ]
    },
    {
     "data": {
      "application/vnd.jupyter.widget-view+json": {
       "model_id": "c8ecf8f52ce94df284460b635b76f8d8",
       "version_major": 2,
       "version_minor": 0
      },
      "text/plain": [
       "HBox(children=(HTML(value=''), FloatProgress(value=0.0, max=136.0), HTML(value='')))"
      ]
     },
     "metadata": {},
     "output_type": "display_data"
    },
    {
     "name": "stdout",
     "output_type": "stream",
     "text": [
      "\n",
      "Target: Twitter\n",
      "----------------------------------------------------------------\n",
      "N       Acc     Precision   Recall  F1      Specificity     \n",
      "----------------------------------------------------------------\n",
      "142     0.859   1.000       0.859   0.924   -1.000          \n",
      "142     0.577   1.000       0.577   0.732   -1.000          \n",
      "2294    0.854   0.000       -1.000  0.000   0.854           \n",
      "2294    0.721   0.000       -1.000  0.000   0.721           \n",
      "1660    0.965   1.000       0.965   0.982   -1.000          \n",
      "1660    0.927   1.000       0.927   0.962   -1.000          \n",
      "4557    0.722   0.000       -1.000  0.000   0.722           \n",
      "4557    0.617   0.000       -1.000  0.000   0.617           \n"
     ]
    },
    {
     "data": {
      "application/vnd.jupyter.widget-view+json": {
       "model_id": "ac2b57cdd0a34243ba7a5e0744d92989",
       "version_major": 2,
       "version_minor": 0
      },
      "text/plain": [
       "HBox(children=(HTML(value=''), FloatProgress(value=0.0, max=66.0), HTML(value='')))"
      ]
     },
     "metadata": {},
     "output_type": "display_data"
    },
    {
     "name": "stdout",
     "output_type": "stream",
     "text": [
      "\n",
      "Target: MSN\n",
      "----------------------------------------------------------------\n",
      "N       Acc     Precision   Recall  F1      Specificity     \n",
      "----------------------------------------------------------------\n",
      "231     0.688   1.000       0.688   0.815   -1.000          \n",
      "231     0.481   1.000       0.481   0.649   -1.000          \n",
      "136     0.926   0.000       -1.000  0.000   0.926           \n",
      "136     0.882   0.000       -1.000  0.000   0.882           \n",
      "2879    0.831   1.000       0.831   0.908   -1.000          \n",
      "2879    0.730   1.000       0.730   0.844   -1.000          \n",
      "973     0.836   0.000       -1.000  0.000   0.836           \n",
      "973     0.823   0.000       -1.000  0.000   0.823           \n"
     ]
    },
    {
     "data": {
      "application/vnd.jupyter.widget-view+json": {
       "model_id": "b56ec8951be146bea2514b5cacf49d3d",
       "version_major": 2,
       "version_minor": 0
      },
      "text/plain": [
       "HBox(children=(HTML(value=''), FloatProgress(value=0.0, max=31.0), HTML(value='')))"
      ]
     },
     "metadata": {},
     "output_type": "display_data"
    },
    {
     "name": "stdout",
     "output_type": "stream",
     "text": [
      "\n",
      "Target: Finance\n",
      "----------------------------------------------------------------\n",
      "N       Acc     Precision   Recall  F1      Specificity     \n",
      "----------------------------------------------------------------\n",
      "5       1.000   1.000       1.000   1.000   -1.000          \n",
      "5       0.800   1.000       0.800   0.889   -1.000          \n",
      "11      0.909   0.000       -1.000  0.000   0.909           \n",
      "11      0.636   0.000       -1.000  0.000   0.636           \n",
      "1358    0.951   1.000       0.951   0.975   -1.000          \n",
      "1358    0.914   1.000       0.914   0.955   -1.000          \n",
      "593     0.621   0.000       -1.000  0.000   0.621           \n",
      "593     0.634   0.000       -1.000  0.000   0.634           \n"
     ]
    }
   ],
   "source": [
    "run(seed=0)"
   ]
  },
  {
   "cell_type": "code",
   "execution_count": null,
   "id": "a7619752",
   "metadata": {},
   "outputs": [],
   "source": []
  }
 ],
 "metadata": {
  "kernelspec": {
   "display_name": "Python 3",
   "language": "python",
   "name": "python3"
  },
  "language_info": {
   "codemirror_mode": {
    "name": "ipython",
    "version": 3
   },
   "file_extension": ".py",
   "mimetype": "text/x-python",
   "name": "python",
   "nbconvert_exporter": "python",
   "pygments_lexer": "ipython3",
   "version": "3.8.10"
  }
 },
 "nbformat": 4,
 "nbformat_minor": 5
}
